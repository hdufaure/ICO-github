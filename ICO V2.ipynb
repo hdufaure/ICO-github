{
 "cells": [
  {
   "cell_type": "code",
   "execution_count": 80,
   "id": "93401d02",
   "metadata": {},
   "outputs": [],
   "source": [
    "import numpy as np\n"
   ]
  },
  {
   "cell_type": "code",
   "execution_count": null,
   "id": "b8a1018e",
   "metadata": {},
   "outputs": [],
   "source": []
  },
  {
   "cell_type": "code",
   "execution_count": 81,
   "id": "8847999a",
   "metadata": {},
   "outputs": [],
   "source": [
    "M1=[6,3,10,14,5,9,7,11,2,3]\n",
    "M2=[1,5,4,6,10,6,9,8,6,1]\n",
    "M3=[5,8,1,3,6,10,12,9,6,7]\n",
    "T=np.array([M1,M2,M3])\n"
   ]
  },
  {
   "cell_type": "code",
   "execution_count": 82,
   "id": "e07616dd",
   "metadata": {},
   "outputs": [],
   "source": [
    "def min_liste_indice(M):\n",
    "    if len(M) == 0:\n",
    "        return \"il n'y a pas de min car la liste est vide\"\n",
    "    else:\n",
    "        imin = 0\n",
    "        min_val = M[0]  # Renamed 'min' to 'min_val'\n",
    "        for i in range(len(M)):\n",
    "            if M[i] < min_val:\n",
    "                imin = i\n",
    "                min_val = M[i]\n",
    "        return imin\n"
   ]
  },
  {
   "cell_type": "code",
   "execution_count": 83,
   "id": "e1ca8e03",
   "metadata": {},
   "outputs": [],
   "source": [
    "## def find_available_tasks(T, U, t):\n",
    "    ## available_tasks = []\n",
    "    ## for i in range(len(T)):\n",
    "        ## if i not in U and sum(T[i]) <= t:\n",
    "            available_tasks.append(i)\n",
    "    ## return available_tasks "
   ]
  },
  {
   "cell_type": "code",
   "execution_count": 129,
   "id": "ff11b92a",
   "metadata": {},
   "outputs": [],
   "source": [
    "## Version modifiée\n",
    "def find_available_tasks(T, U, t):\n",
    "    available_tasks = []\n",
    "    for i in range(len(T)):\n",
    "        if i not in U and T[i] and any(time <= t for time in T[i]):\n",
    "            available_tasks.append(i)\n",
    "    return available_tasks\n"
   ]
  },
  {
   "cell_type": "code",
   "execution_count": 84,
   "id": "4ab25c61",
   "metadata": {},
   "outputs": [],
   "source": [
    "def next_available_time(T,U,t):\n",
    "    while not(find_available_tasks(T,U,t)):\n",
    "        t+=1\n",
    "    return t"
   ]
  },
  {
   "cell_type": "code",
   "execution_count": 130,
   "id": "d6bdaaaf",
   "metadata": {},
   "outputs": [],
   "source": [
    "def algo_liste(T):\n",
    "    num_tasks = len(T[0])\n",
    "    U = []  # Ensemble des tâches exécutées\n",
    "    I = [i for i in range(num_tasks)]  # Ensemble complet des tâches\n",
    "    t = 0  # Temps actuel\n",
    "\n",
    "    while len(U) != len(I):\n",
    "        available_tasks = find_available_tasks(T, U, t)\n",
    "        if available_tasks:\n",
    "            # Choisir la tâche de plus grande priorité parmi celles disponibles\n",
    "            i = min_liste_indice(available_tasks)\n",
    "            ti = T[i]\n",
    "            t += ti\n",
    "            U.append(i)\n",
    "        else:\n",
    "            # Trouver le prochain instant où une tâche devient disponible\n",
    "            t = next_available_time(T,U,t)\n",
    "\n",
    "    return sorted(list(U))  # Retourner les tâches exécutées dans l'ordre croissant"
   ]
  },
  {
   "cell_type": "code",
   "execution_count": 147,
   "id": "96db8bef",
   "metadata": {
    "scrolled": false
   },
   "outputs": [
    {
     "ename": "ValueError",
     "evalue": "The truth value of an array with more than one element is ambiguous. Use a.any() or a.all()",
     "output_type": "error",
     "traceback": [
      "\u001b[0;31m---------------------------------------------------------------------------\u001b[0m",
      "\u001b[0;31mValueError\u001b[0m                                Traceback (most recent call last)",
      "Cell \u001b[0;32mIn[147], line 1\u001b[0m\n\u001b[0;32m----> 1\u001b[0m algo_liste(T)\n",
      "Cell \u001b[0;32mIn[130], line 8\u001b[0m, in \u001b[0;36malgo_liste\u001b[0;34m(T)\u001b[0m\n\u001b[1;32m      5\u001b[0m t \u001b[38;5;241m=\u001b[39m \u001b[38;5;241m0\u001b[39m  \u001b[38;5;66;03m# Temps actuel\u001b[39;00m\n\u001b[1;32m      7\u001b[0m \u001b[38;5;28;01mwhile\u001b[39;00m \u001b[38;5;28mlen\u001b[39m(U) \u001b[38;5;241m!=\u001b[39m \u001b[38;5;28mlen\u001b[39m(I):\n\u001b[0;32m----> 8\u001b[0m     available_tasks \u001b[38;5;241m=\u001b[39m find_available_tasks(T, U, t)\n\u001b[1;32m      9\u001b[0m     \u001b[38;5;28;01mif\u001b[39;00m available_tasks:\n\u001b[1;32m     10\u001b[0m         \u001b[38;5;66;03m# Choisir la tâche de plus grande priorité parmi celles disponibles\u001b[39;00m\n\u001b[1;32m     11\u001b[0m         i \u001b[38;5;241m=\u001b[39m min_liste_indice(available_tasks)\n",
      "Cell \u001b[0;32mIn[129], line 5\u001b[0m, in \u001b[0;36mfind_available_tasks\u001b[0;34m(T, U, t)\u001b[0m\n\u001b[1;32m      3\u001b[0m available_tasks \u001b[38;5;241m=\u001b[39m []\n\u001b[1;32m      4\u001b[0m \u001b[38;5;28;01mfor\u001b[39;00m i \u001b[38;5;129;01min\u001b[39;00m \u001b[38;5;28mrange\u001b[39m(\u001b[38;5;28mlen\u001b[39m(T)):\n\u001b[0;32m----> 5\u001b[0m     \u001b[38;5;28;01mif\u001b[39;00m i \u001b[38;5;129;01mnot\u001b[39;00m \u001b[38;5;129;01min\u001b[39;00m U \u001b[38;5;129;01mand\u001b[39;00m T[i] \u001b[38;5;129;01mand\u001b[39;00m \u001b[38;5;28many\u001b[39m(time \u001b[38;5;241m<\u001b[39m\u001b[38;5;241m=\u001b[39m t \u001b[38;5;28;01mfor\u001b[39;00m time \u001b[38;5;129;01min\u001b[39;00m T[i]):\n\u001b[1;32m      6\u001b[0m         available_tasks\u001b[38;5;241m.\u001b[39mappend(i)\n\u001b[1;32m      7\u001b[0m \u001b[38;5;28;01mreturn\u001b[39;00m available_tasks\n",
      "\u001b[0;31mValueError\u001b[0m: The truth value of an array with more than one element is ambiguous. Use a.any() or a.all()"
     ]
    }
   ],
   "source": [
    "algo_liste(T)"
   ]
  },
  {
   "cell_type": "code",
   "execution_count": null,
   "id": "3fbf3301",
   "metadata": {},
   "outputs": [],
   "source": [
    "print(T)"
   ]
  },
  {
   "cell_type": "code",
   "execution_count": null,
   "id": "06f52511",
   "metadata": {
    "scrolled": true
   },
   "outputs": [],
   "source": [
    "algo_liste(T)"
   ]
  },
  {
   "cell_type": "markdown",
   "id": "c5412ae2",
   "metadata": {},
   "source": [
    "Méthode par voisinage"
   ]
  },
  {
   "cell_type": "code",
   "execution_count": null,
   "id": "a5a5c490",
   "metadata": {},
   "outputs": [],
   "source": [
    "#calculer le temps total pour chaque permutation de tâches P, ie la fonction f(x) ici\n",
    "\n",
    "def compute_total_time(T, P):\n",
    "    total_time = [0] * len(T[0])\n",
    "    for i in range(len(T)):\n",
    "        for j in range(len(T[0])):\n",
    "            if j==0 : \n",
    "                total_time[j] += T[i][P[i]] \n",
    "            else :\n",
    "                for k in range(i+1):\n",
    "                    max(total_time[j-1], sum(T[k][:P[i]+1])) \n",
    "    return max(total_time)"
   ]
  },
  {
   "cell_type": "code",
   "execution_count": null,
   "id": "cd1b05f2",
   "metadata": {},
   "outputs": [],
   "source": [
    "def generate_neighbour(P):\n",
    "    # On choisit deux indices aléatoires différents pour échanger les tâches\n",
    "    idx1, idx2 = np.random.choice(len(P), 2, replace=False)\n",
    "    # On échange les tâches aux deux indices choisis\n",
    "    P[idx1], P[idx2] = P[idx2], P[idx1]\n",
    "    \n",
    "    return P"
   ]
  },
  {
   "cell_type": "code",
   "execution_count": null,
   "id": "43012b8c",
   "metadata": {},
   "outputs": [],
   "source": [
    "max_iterations=1000\n",
    "\n",
    "def algo_voisinage_descente(T, max_iterations):\n",
    "    num_tasks = len(T[0])\n",
    "    # Créez une solution initiale aléatoire\n",
    "    initial_solution = list(range(len(T[0])))\n",
    "    np.random.shuffle(initial_solution)\n",
    "    \n",
    "    # Calculez le temps total d'exécution pour la solution initiale\n",
    "    best_solution = initial_solution\n",
    "    best_time = compute_total_time(T, best_solution)\n",
    "    \n",
    "    # Effectuez les itérations de la méthode de descente\n",
    "    for _ in range(max_iterations):\n",
    "        # Générer une solution voisine\n",
    "        neighbour_solution = generate_neighbour(best_solution.copy())\n",
    "        \n",
    "        # Calculez le temps total d'exécution pour la solution voisine\n",
    "        neighbour_time = compute_total_time(T, neighbour_solution)\n",
    "        \n",
    "        # Vérifiez si la solution voisine est meilleure que la solution actuelle\n",
    "        if neighbour_time < best_time:\n",
    "            best_solution = neighbour_solution\n",
    "            best_time = neighbour_time\n",
    "\n",
    "    return best_solution, best_time"
   ]
  },
  {
   "cell_type": "code",
   "execution_count": null,
   "id": "ad4145cf",
   "metadata": {},
   "outputs": [],
   "source": [
    "algo_voisinage_descente(T,200)"
   ]
  },
  {
   "cell_type": "code",
   "execution_count": null,
   "id": "06d87b1b",
   "metadata": {},
   "outputs": [],
   "source": [
    "print(best_permutation)"
   ]
  },
  {
   "cell_type": "markdown",
   "id": "b9d0d7dc",
   "metadata": {},
   "source": [
    "len(T)"
   ]
  },
  {
   "cell_type": "code",
   "execution_count": null,
   "id": "8898fa64",
   "metadata": {},
   "outputs": [],
   "source": [
    "P = [2, 0, 1, 4, 3, 5, 7, 6, 8, 9]"
   ]
  },
  {
   "cell_type": "code",
   "execution_count": null,
   "id": "42fe9f32",
   "metadata": {},
   "outputs": [],
   "source": [
    "compute_total_time(T, P)"
   ]
  },
  {
   "cell_type": "markdown",
   "id": "e555cc35",
   "metadata": {},
   "source": [
    "Méthode Johnson-2 avec machine virtuelle M1+M2"
   ]
  },
  {
   "cell_type": "code",
   "execution_count": null,
   "id": "471bc50a",
   "metadata": {},
   "outputs": [],
   "source": [
    "def johnson2_method(T):\n",
    "    num_tasks = len(T[0])\n",
    "    \n",
    "    # Créez une liste d'indices de tâches\n",
    "    indices = list(range(num_tasks))\n",
    "    \n",
    "    # Créer une machine virtuelle en combinant les temps de traitement de M1 et M2\n",
    "    virtual_machine = [T[0][i] + T[1][i] for i in range(num_tasks)]\n",
    "\n",
    "    # Trier les indices selon la machine virtuelle\n",
    "    sorted_indices = sorted(indices, key=lambda x: virtual_machine[x])\n",
    "\n",
    "    # Ordonner les tâches selon l'algorithme de Johnson\n",
    "    U, V = [], []\n",
    "    \n",
    "    for i in range(num_tasks):\n",
    "        if T[0][sorted_indices[i]] < T[1][sorted_indices[i]]:\n",
    "            U.append(sorted_indices[i])\n",
    "        else:\n",
    "            V.append(sorted_indices[i])\n",
    "    \n",
    "    # Ordonner les tâches dans U et V\n",
    "    LU = sorted(U, key=lambda x: T[0][x])\n",
    "    LV = sorted(V, key=lambda x: T[1][x], reverse=True)\n",
    "    \n",
    "    # Concaténer les listes ordonnées\n",
    "    L = LU + LV\n",
    "\n",
    "    return L\n"
   ]
  },
  {
   "cell_type": "code",
   "execution_count": null,
   "id": "5f3c20cd",
   "metadata": {},
   "outputs": [],
   "source": [
    "johnson_method(T)"
   ]
  },
  {
   "cell_type": "code",
   "execution_count": null,
   "id": "eb99167a",
   "metadata": {},
   "outputs": [],
   "source": []
  }
 ],
 "metadata": {
  "kernelspec": {
   "display_name": "Python 3 (ipykernel)",
   "language": "python",
   "name": "python3"
  },
  "language_info": {
   "codemirror_mode": {
    "name": "ipython",
    "version": 3
   },
   "file_extension": ".py",
   "mimetype": "text/x-python",
   "name": "python",
   "nbconvert_exporter": "python",
   "pygments_lexer": "ipython3",
   "version": "3.11.5"
  }
 },
 "nbformat": 4,
 "nbformat_minor": 5
}
