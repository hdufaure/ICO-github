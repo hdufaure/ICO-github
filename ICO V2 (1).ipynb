{
 "cells": [
  {
   "cell_type": "code",
   "execution_count": 80,
   "id": "93401d02",
   "metadata": {},
   "outputs": [],
   "source": [
    "import numpy as np\n"
   ]
  },
  {
   "cell_type": "code",
   "execution_count": 81,
   "id": "8847999a",
   "metadata": {},
   "outputs": [],
   "source": [
    "M1=[6,3,10,14,5,9,7,11,2,3]\n",
    "M2=[1,5,4,6,10,6,9,8,6,1]\n",
    "M3=[5,8,1,3,6,10,12,9,6,7]\n",
    "T=np.array([M1,M2,M3])"
   ]
  },
  {
   "cell_type": "code",
   "execution_count": 82,
   "id": "e07616dd",
   "metadata": {},
   "outputs": [],
   "source": [
    "def min_liste_indice(M):\n",
    "    if len(M) == 0:\n",
    "        return \"il n'y a pas de min car la liste est vide\"\n",
    "    else:\n",
    "        imin = 0\n",
    "        min_val = M[0]  # Renamed 'min' to 'min_val'\n",
    "        for i in range(len(M)):\n",
    "            if M[i] < min_val:\n",
    "                imin = i\n",
    "                min_val = M[i]\n",
    "        return imin\n"
   ]
  },
  {
   "cell_type": "code",
   "execution_count": 130,
   "id": "d6bdaaaf",
   "metadata": {},
   "outputs": [],
   "source": [
    "import copy\n",
    "\n",
    "def algo_liste(I):\n",
    "    J = copy.deepcopy(I)\n",
    "    U = [[], [], []]  # ordres d'execution des taches dans les machines 1 et 2 et 3\n",
    "    indice_tache_machine = [[None, 0], [None, 0], [None, 0]]  # indice et date de la fin de la tache effectuée dans la machine 1 et 2 et 3\n",
    "\n",
    "    def est_occupée(i):\n",
    "        return indice_tache_machine[i][1] != 0\n",
    "        \n",
    "\n",
    "    def tache_disponible(i, t):\n",
    "        taches_dispo = []\n",
    "        if i == 0:    \n",
    "            for j in range(len(J)):\n",
    "                if J[j][i] != 0:\n",
    "                    taches_dispo.append(j)\n",
    "        elif i == 1:\n",
    "            for j in range(len(J)):\n",
    "                \n",
    "                if J[j][0]==0 and J[j][i] != 0 and indice_tache_machine[0][1] < t:  # Task available and finished on machine 1\n",
    "                    if indice_tache_machine[0][0]==j and indice_tache_machine[0][1]==0:\n",
    "                        taches_dispo.append(j)\n",
    "                    elif indice_tache_machine[0][0]!=j:\n",
    "                        taches_dispo.append(j)\n",
    "        elif i == 2:\n",
    "            for j in range(len(J)):\n",
    "                \n",
    "                if J[j][1]==0 and J[j][i] != 0 and indice_tache_machine[1][1] < t:  # Task available and finished on machine 2\n",
    "                    if indice_tache_machine[1][0]==j and indice_tache_machine[1][1]==0:\n",
    "                        taches_dispo.append(j)\n",
    "                    elif indice_tache_machine[1][0]!=j:\n",
    "                        taches_dispo.append(j)\n",
    "        return taches_dispo\n",
    "\n",
    "    def tache_prioritaire(i, taches_dispo):\n",
    "        min_time = float('inf')\n",
    "        indice_tache_prioritaire = None\n",
    "        for j in taches_dispo:\n",
    "            if J[j][i] < min_time:\n",
    "                min_time = J[j][i]\n",
    "                indice_tache_prioritaire = j\n",
    "        return indice_tache_prioritaire\n",
    "\n",
    "    t = 0\n",
    "    while len(U[0]) != 10 or len(U[1]) != 10 or len(U[2]) != 10:\n",
    "        if not est_occupée(2):\n",
    "            \n",
    "            taches_dispo = tache_disponible(2, t)\n",
    "            if taches_dispo:\n",
    "                indice_tache_prioritaire = tache_prioritaire(2, taches_dispo)\n",
    "                U[2].append(indice_tache_prioritaire)\n",
    "                indice_tache_machine[2][0] = indice_tache_prioritaire\n",
    "                indice_tache_machine[2][1] = J[indice_tache_prioritaire][2]\n",
    "                \n",
    "                print(f\"A t = {t}, la tâche {indice_tache_prioritaire} durant {J[indice_tache_prioritaire][2]} commence sur la machine {2+1}.\")\n",
    "               \n",
    "                J[indice_tache_prioritaire][2] = 0\n",
    "        if not est_occupée(1) and len(U[1]) != 10:\n",
    "            \n",
    "            taches_dispo = tache_disponible(1, t)\n",
    "            if taches_dispo:\n",
    "                indice_tache_prioritaire = tache_prioritaire(1, taches_dispo)\n",
    "                U[1].append(indice_tache_prioritaire)\n",
    "                indice_tache_machine[1][0] = indice_tache_prioritaire\n",
    "                indice_tache_machine[1][1] = J[indice_tache_prioritaire][1]\n",
    "                \n",
    "                print(f\"A t = {t}, la tâche {indice_tache_prioritaire} durant {J[indice_tache_prioritaire][1]} commence sur la machine {1+1}.\")\n",
    "         \n",
    "                J[indice_tache_prioritaire][1] = 0\n",
    "        if not est_occupée(0) and len(U[0]) != 10:\n",
    "            \n",
    "            taches_dispo = tache_disponible(0, t)\n",
    "            if taches_dispo:\n",
    "                indice_tache_prioritaire = tache_prioritaire(0, taches_dispo)\n",
    "                U[0].append(indice_tache_prioritaire)\n",
    "                indice_tache_machine[0][0] = indice_tache_prioritaire\n",
    "                indice_tache_machine[0][1] = J[indice_tache_prioritaire][0]\n",
    "                \n",
    "                print(f\"A t = {t}, la tâche {indice_tache_prioritaire} durant {J[indice_tache_prioritaire][0]} commence sur la machine {0+1}.\")\n",
    "              \n",
    "                J[indice_tache_prioritaire][0] = 0\n",
    "        else:\n",
    "            t += 1\n",
    "            indice_tache_machine[0][1]-=1\n",
    "            if est_occupée(1):\n",
    "                indice_tache_machine[1][1]-=1\n",
    "            if est_occupée(2):\n",
    "                indice_tache_machine[2][1]-=1\n",
    "    print(U)\n",
    "    print(f\"t={t-1+indice_tache_machine[2][1]}\")"
   ]
  },
  {
   "cell_type": "markdown",
   "id": "c5412ae2",
   "metadata": {},
   "source": [
    "Méthode par voisinage"
   ]
  },
  {
   "cell_type": "code",
   "execution_count": null,
   "id": "a5a5c490",
   "metadata": {},
   "outputs": [],
   "source": [
    "#calculer le temps total pour chaque permutation de tâches P, ie la fonction f(x) ici\n",
    "\n",
    "def compute_total_time(T, P):\n",
    "    total_time = [0] * len(T[0])\n",
    "    for i in range(len(T)):\n",
    "        for j in range(len(T[0])):\n",
    "            if j==0 : \n",
    "                total_time[j] += T[i][P[i]] \n",
    "            else :\n",
    "                for k in range(i+1):\n",
    "                    max(total_time[j-1], sum(T[k][:P[i]+1])) \n",
    "    return max(total_time)"
   ]
  },
  {
   "cell_type": "code",
   "execution_count": null,
   "id": "cd1b05f2",
   "metadata": {},
   "outputs": [],
   "source": [
    "def generate_neighbour(P):\n",
    "    # On choisit deux indices aléatoires différents pour échanger les tâches\n",
    "    idx1, idx2 = np.random.choice(len(P), 2, replace=False)\n",
    "    # On échange les tâches aux deux indices choisis\n",
    "    P[idx1], P[idx2] = P[idx2], P[idx1]\n",
    "    \n",
    "    return P"
   ]
  },
  {
   "cell_type": "code",
   "execution_count": null,
   "id": "43012b8c",
   "metadata": {},
   "outputs": [],
   "source": [
    "max_iterations=1000\n",
    "\n",
    "def algo_voisinage_descente(T, max_iterations):\n",
    "    num_tasks = len(T[0])\n",
    "    # Créez une solution initiale aléatoire\n",
    "    initial_solution = list(range(len(T[0])))\n",
    "    np.random.shuffle(initial_solution)\n",
    "    \n",
    "    # Calculez le temps total d'exécution pour la solution initiale\n",
    "    best_solution = initial_solution\n",
    "    best_time = compute_total_time(T, best_solution)\n",
    "    \n",
    "    # Effectuez les itérations de la méthode de descente\n",
    "    for _ in range(max_iterations):\n",
    "        # Générer une solution voisine\n",
    "        neighbour_solution = generate_neighbour(best_solution.copy())\n",
    "        \n",
    "        # Calculez le temps total d'exécution pour la solution voisine\n",
    "        neighbour_time = compute_total_time(T, neighbour_solution)\n",
    "        \n",
    "        # Vérifiez si la solution voisine est meilleure que la solution actuelle\n",
    "        if neighbour_time < best_time:\n",
    "            best_solution = neighbour_solution\n",
    "            best_time = neighbour_time\n",
    "\n",
    "    return best_solution, best_time"
   ]
  },
  {
   "cell_type": "code",
   "execution_count": null,
   "id": "ad4145cf",
   "metadata": {},
   "outputs": [],
   "source": [
    "algo_voisinage_descente(T,200)"
   ]
  },
  {
   "cell_type": "code",
   "execution_count": null,
   "id": "06d87b1b",
   "metadata": {},
   "outputs": [],
   "source": [
    "print(best_permutation)"
   ]
  },
  {
   "cell_type": "markdown",
   "id": "b9d0d7dc",
   "metadata": {},
   "source": [
    "len(T)"
   ]
  },
  {
   "cell_type": "code",
   "execution_count": null,
   "id": "8898fa64",
   "metadata": {},
   "outputs": [],
   "source": [
    "P = [2, 0, 1, 4, 3, 5, 7, 6, 8, 9]"
   ]
  },
  {
   "cell_type": "code",
   "execution_count": null,
   "id": "42fe9f32",
   "metadata": {},
   "outputs": [],
   "source": [
    "compute_total_time(T, P)"
   ]
  },
  {
   "cell_type": "markdown",
   "id": "e555cc35",
   "metadata": {},
   "source": [
    "Méthode Johnson-2 avec machine virtuelle M1+M2"
   ]
  },
  {
   "cell_type": "code",
   "execution_count": null,
   "id": "471bc50a",
   "metadata": {},
   "outputs": [],
   "source": [
    "def johnson2_method(T):\n",
    "    num_tasks = len(T[0])\n",
    "    \n",
    "    # Créez une liste d'indices de tâches\n",
    "    indices = list(range(num_tasks))\n",
    "    \n",
    "    # Créer une machine virtuelle en combinant les temps de traitement de M1 et M2\n",
    "    virtual_machine = [T[0][i] + T[1][i] for i in range(num_tasks)]\n",
    "\n",
    "    # Trier les indices selon la machine virtuelle\n",
    "    sorted_indices = sorted(indices, key=lambda x: virtual_machine[x])\n",
    "\n",
    "    # Ordonner les tâches selon l'algorithme de Johnson\n",
    "    U, V = [], []\n",
    "    \n",
    "    for i in range(num_tasks):\n",
    "        if T[0][sorted_indices[i]] < T[1][sorted_indices[i]]:\n",
    "            U.append(sorted_indices[i])\n",
    "        else:\n",
    "            V.append(sorted_indices[i])\n",
    "    \n",
    "    # Ordonner les tâches dans U et V\n",
    "    LU = sorted(U, key=lambda x: T[0][x])\n",
    "    LV = sorted(V, key=lambda x: T[1][x], reverse=True)\n",
    "    \n",
    "    # Concaténer les listes ordonnées\n",
    "    L = LU + LV\n",
    "\n",
    "    return L\n"
   ]
  },
  {
   "cell_type": "code",
   "execution_count": null,
   "id": "5f3c20cd",
   "metadata": {},
   "outputs": [],
   "source": [
    "johnson_method(T)"
   ]
  },
  {
   "cell_type": "code",
   "execution_count": null,
   "id": "eb99167a",
   "metadata": {},
   "outputs": [],
   "source": []
  }
 ],
 "metadata": {
  "kernelspec": {
   "display_name": "Python 3 (ipykernel)",
   "language": "python",
   "name": "python3"
  },
  "language_info": {
   "codemirror_mode": {
    "name": "ipython",
    "version": 3
   },
   "file_extension": ".py",
   "mimetype": "text/x-python",
   "name": "python",
   "nbconvert_exporter": "python",
   "pygments_lexer": "ipython3",
   "version": "3.11.4"
  }
 },
 "nbformat": 4,
 "nbformat_minor": 5
}
