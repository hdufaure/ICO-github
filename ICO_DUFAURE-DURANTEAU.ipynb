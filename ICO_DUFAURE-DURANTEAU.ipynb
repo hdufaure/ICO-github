{
 "cells": [
  {
   "cell_type": "markdown",
   "id": "1991fe71",
   "metadata": {},
   "source": [
    "EXERCICE 1- ICO- DUFAURE DE LAJARTE - DURANTEAU"
   ]
  },
  {
   "cell_type": "code",
   "execution_count": null,
   "id": "a95537c4",
   "metadata": {},
   "outputs": [],
   "source": [
    "import numpy as np\n",
    "M1=[6,3,10,14,5,9,7,11,2,3]\n",
    "M2=[1,5,4,6,10,6,9,8,6,1]\n",
    "M3=[5,8,1,3,6,10,12,9,6,7]\n",
    "T=np.array([M1,M2,M3])"
   ]
  },
  {
   "cell_type": "code",
   "execution_count": 82,
   "id": "e07616dd",
   "metadata": {},
   "outputs": [],
   "source": [
    "def min_liste_indice(M):\n",
    "    if len(M) == 0:\n",
    "        return \"il n'y a pas de min car la liste est vide\"\n",
    "    else:\n",
    "        imin = 0\n",
    "        min_val = M[0]  # Renamed 'min' to 'min_val'\n",
    "        for i in range(len(M)):\n",
    "            if M[i] < min_val:\n",
    "                imin = i\n",
    "                min_val = M[i]\n",
    "        return imin\n"
   ]
  },
  {
   "cell_type": "code",
   "execution_count": 130,
   "id": "d6bdaaaf",
   "metadata": {},
   "outputs": [],
   "source": [
    "import copy\n",
    "\n",
    "def flow_shop_algorithm(task_times):\n",
    "    # Création d'une copie profonde de la liste des temps de chaque tâche\n",
    "    tasks = copy.deepcopy(task_times)\n",
    "    \n",
    "    # Liste pour stocker l'ordre d'exécution des tâches sur les trois machines\n",
    "    execution_order = [[], [], []]  \n",
    "    \n",
    "    # Liste pour suivre l'indice de la tâche en cours et la date de fin de chaque tâche sur les trois machines\n",
    "    task_indices = [[None, 0], [None, 0], [None, 0]]  \n",
    "\n",
    "    # Fonction pour vérifier si une machine spécifique est occupée\n",
    "    def is_machine_busy(machine_index):\n",
    "        return task_indices[machine_index][1] != 0\n",
    "\n",
    "    # Fonction pour trouver les tâches disponibles pour une machine spécifique à un temps donné\n",
    "    def available_tasks(machine_index, current_time):\n",
    "        available = []\n",
    "        for j, task in enumerate(tasks):\n",
    "            if task[machine_index] != 0 and task_indices[machine_index][1] <= current_time:\n",
    "                if machine_index == 0 or (machine_index > 0 and task[machine_index - 1] == 0):\n",
    "                    available.append(j)\n",
    "        return available\n",
    "\n",
    "    # Fonction pour trouver la tâche prioritaire parmi celles disponibles pour une machine spécifique\n",
    "    def find_priority_task(machine_index, available_tasks):\n",
    "        min_time = float('inf')\n",
    "        priority_task_index = None\n",
    "        for j in available_tasks:\n",
    "            if tasks[j][machine_index] < min_time:\n",
    "                min_time = tasks[j][machine_index]\n",
    "                priority_task_index = j\n",
    "        return priority_task_index\n",
    "\n",
    "    # Initialisation du temps\n",
    "    current_time = 0\n",
    "    \n",
    "    # Tant que chaque machine n'a pas exécuté 10 tâches\n",
    "    while len(execution_order[0]) != 10 or len(execution_order[1]) != 10 or len(execution_order[2]) != 10:\n",
    "        for machine_index in range(3):\n",
    "            if not is_machine_busy(machine_index) and len(execution_order[machine_index]) < 10:\n",
    "                available_tasks_list = available_tasks(machine_index, current_time)\n",
    "                if available_tasks_list:\n",
    "                    priority_task = find_priority_task(machine_index, available_tasks_list)\n",
    "                    execution_order[machine_index].append(priority_task)\n",
    "                    task_indices[machine_index][0] = priority_task\n",
    "                    task_indices[machine_index][1] = tasks[priority_task][machine_index]\n",
    "                    print(f\"Au temps t = {current_time}, la tâche {priority_task} de durée {tasks[priority_task][machine_index]} débute sur la machine {machine_index + 1}.\")\n",
    "                    tasks[priority_task][machine_index] = 0\n",
    "        current_time += 1\n",
    "    \n",
    "    print(execution_order)  # Afficher l'ordre d'exécution des tâches\n",
    "    total_time = max(task_indices[2][1], task_indices[1][1], task_indices[0][1])  # Calcul du temps total d'exécution\n",
    "    print(f\"Temps total d'exécution : {total_time}\")"
   ]
  },
  {
   "cell_type": "markdown",
   "id": "c5412ae2",
   "metadata": {},
   "source": [
    "Méthode par voisinage"
   ]
  },
  {
   "cell_type": "code",
   "execution_count": null,
   "id": "a5a5c490",
   "metadata": {},
   "outputs": [],
   "source": [
    "#calculer le temps total pour chaque permutation de tâches P, ie la fonction f(x) ici\n",
    "\n",
    "def compute_total_time(T, P):\n",
    "    total_time = [0] * len(T[0])\n",
    "    for i in range(len(T)):\n",
    "        for j in range(len(T[0])):\n",
    "            if j==0 : \n",
    "                total_time[j] += T[i][P[i]] \n",
    "            else :\n",
    "                for k in range(i+1):\n",
    "                    max(total_time[j-1], sum(T[k][:P[i]+1])) \n",
    "    return max(total_time)"
   ]
  },
  {
   "cell_type": "code",
   "execution_count": null,
   "id": "cd1b05f2",
   "metadata": {},
   "outputs": [],
   "source": [
    "def generate_neighbour(P):\n",
    "    # On choisit deux indices aléatoires différents pour échanger les tâches\n",
    "    idx1, idx2 = np.random.choice(len(P), 2, replace=False)\n",
    "    # On échange les tâches aux deux indices choisis\n",
    "    P[idx1], P[idx2] = P[idx2], P[idx1]\n",
    "    \n",
    "    return P"
   ]
  },
  {
   "cell_type": "code",
   "execution_count": null,
   "id": "43012b8c",
   "metadata": {},
   "outputs": [],
   "source": [
    "max_iterations=1000\n",
    "\n",
    "def algo_voisinage_descente(T, max_iterations):\n",
    "    num_tasks = len(T[0])\n",
    "    # Créez une solution initiale aléatoire\n",
    "    initial_solution = list(range(len(T[0])))\n",
    "    np.random.shuffle(initial_solution)\n",
    "    \n",
    "    # Calculez le temps total d'exécution pour la solution initiale\n",
    "    best_solution = initial_solution\n",
    "    best_time = compute_total_time(T, best_solution)\n",
    "    \n",
    "    # Effectuez les itérations de la méthode de descente\n",
    "    for _ in range(max_iterations):\n",
    "        # Générer une solution voisine\n",
    "        neighbour_solution = generate_neighbour(best_solution.copy())\n",
    "        \n",
    "        # Calculez le temps total d'exécution pour la solution voisine\n",
    "        neighbour_time = compute_total_time(T, neighbour_solution)\n",
    "        \n",
    "        # Vérifiez si la solution voisine est meilleure que la solution actuelle\n",
    "        if neighbour_time < best_time:\n",
    "            best_solution = neighbour_solution\n",
    "            best_time = neighbour_time\n",
    "\n",
    "    return best_solution, best_time"
   ]
  },
  {
   "cell_type": "code",
   "execution_count": null,
   "id": "ad4145cf",
   "metadata": {},
   "outputs": [],
   "source": [
    "algo_voisinage_descente(T,200)"
   ]
  },
  {
   "cell_type": "code",
   "execution_count": null,
   "id": "06d87b1b",
   "metadata": {},
   "outputs": [],
   "source": [
    "print(best_permutation)"
   ]
  },
  {
   "cell_type": "markdown",
   "id": "b9d0d7dc",
   "metadata": {},
   "source": [
    "len(T)"
   ]
  },
  {
   "cell_type": "code",
   "execution_count": null,
   "id": "8898fa64",
   "metadata": {},
   "outputs": [],
   "source": [
    "P = [2, 0, 1, 4, 3, 5, 7, 6, 8, 9]"
   ]
  },
  {
   "cell_type": "code",
   "execution_count": null,
   "id": "42fe9f32",
   "metadata": {},
   "outputs": [],
   "source": [
    "compute_total_time(T, P)"
   ]
  },
  {
   "cell_type": "markdown",
   "id": "e555cc35",
   "metadata": {},
   "source": [
    "Méthode Johnson-2 avec machine virtuelle M1+M2"
   ]
  },
  {
   "cell_type": "code",
   "execution_count": null,
   "id": "471bc50a",
   "metadata": {},
   "outputs": [],
   "source": [
    "def johnson2_method(T):\n",
    "    num_tasks = len(T[0])\n",
    "    \n",
    "    # Créez une liste d'indices de tâches\n",
    "    indices = list(range(num_tasks))\n",
    "    \n",
    "    # Créer une machine virtuelle en combinant les temps de traitement de M1 et M2\n",
    "    virtual_machine = [T[0][i] + T[1][i] for i in range(num_tasks)]\n",
    "\n",
    "    # Trier les indices selon la machine virtuelle\n",
    "    sorted_indices = sorted(indices, key=lambda x: virtual_machine[x])\n",
    "\n",
    "    # Ordonner les tâches selon l'algorithme de Johnson\n",
    "    U, V = [], []\n",
    "    \n",
    "    for i in range(num_tasks):\n",
    "        if T[0][sorted_indices[i]] < T[1][sorted_indices[i]]:\n",
    "            U.append(sorted_indices[i])\n",
    "        else:\n",
    "            V.append(sorted_indices[i])\n",
    "    \n",
    "    # Ordonner les tâches dans U et V\n",
    "    LU = sorted(U, key=lambda x: T[0][x])\n",
    "    LV = sorted(V, key=lambda x: T[1][x], reverse=True)\n",
    "    \n",
    "    # Concaténer les listes ordonnées\n",
    "    L = LU + LV\n",
    "\n",
    "    return L\n"
   ]
  },
  {
   "cell_type": "code",
   "execution_count": null,
   "id": "5f3c20cd",
   "metadata": {},
   "outputs": [],
   "source": [
    "johnson_method(T)"
   ]
  },
  {
   "cell_type": "code",
   "execution_count": null,
   "id": "eb99167a",
   "metadata": {},
   "outputs": [],
   "source": []
  }
 ],
 "metadata": {
  "kernelspec": {
   "display_name": "Python 3 (ipykernel)",
   "language": "python",
   "name": "python3"
  },
  "language_info": {
   "codemirror_mode": {
    "name": "ipython",
    "version": 3
   },
   "file_extension": ".py",
   "mimetype": "text/x-python",
   "name": "python",
   "nbconvert_exporter": "python",
   "pygments_lexer": "ipython3",
   "version": "3.11.4"
  }
 },
 "nbformat": 4,
 "nbformat_minor": 5
}
